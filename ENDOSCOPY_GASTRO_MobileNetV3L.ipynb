{
  "nbformat": 4,
  "nbformat_minor": 0,
  "metadata": {
    "kernelspec": {
      "display_name": "Python 3",
      "name": "python3"
    },
    "language_info": {
      "codemirror_mode": {
        "name": "ipython",
        "version": 3
      },
      "file_extension": ".py",
      "mimetype": "text/x-python",
      "name": "python",
      "nbconvert_exporter": "python",
      "pygments_lexer": "ipython3",
      "version": "3.6.6"
    },
    "colab": {
      "provenance": [],
      "gpuType": "T4"
    },
    "accelerator": "GPU"
  },
  "cells": [
    {
      "cell_type": "code",
      "source": [
        "!pip install kaggle\n",
        "!pip install opendatasets\n",
        "\n",
        "\n",
        "import opendatasets as od\n",
        "import pandas\n",
        "\n",
        "od.download(\"https://www.kaggle.com/datasets/plhalvorsen/kvasir-v2-a-gastrointestinal-tract-dataset\")"
      ],
      "metadata": {
        "colab": {
          "base_uri": "https://localhost:8080/"
        },
        "id": "pXC9KnUPOY5i",
        "outputId": "969de6d3-de9a-4475-e2ae-b35d57ad8cab"
      },
      "execution_count": 1,
      "outputs": [
        {
          "output_type": "stream",
          "name": "stdout",
          "text": [
            "Requirement already satisfied: kaggle in /usr/local/lib/python3.10/dist-packages (1.5.16)\n",
            "Requirement already satisfied: six>=1.10 in /usr/local/lib/python3.10/dist-packages (from kaggle) (1.16.0)\n",
            "Requirement already satisfied: certifi in /usr/local/lib/python3.10/dist-packages (from kaggle) (2024.2.2)\n",
            "Requirement already satisfied: python-dateutil in /usr/local/lib/python3.10/dist-packages (from kaggle) (2.8.2)\n",
            "Requirement already satisfied: requests in /usr/local/lib/python3.10/dist-packages (from kaggle) (2.31.0)\n",
            "Requirement already satisfied: tqdm in /usr/local/lib/python3.10/dist-packages (from kaggle) (4.66.2)\n",
            "Requirement already satisfied: python-slugify in /usr/local/lib/python3.10/dist-packages (from kaggle) (8.0.4)\n",
            "Requirement already satisfied: urllib3 in /usr/local/lib/python3.10/dist-packages (from kaggle) (2.0.7)\n",
            "Requirement already satisfied: bleach in /usr/local/lib/python3.10/dist-packages (from kaggle) (6.1.0)\n",
            "Requirement already satisfied: webencodings in /usr/local/lib/python3.10/dist-packages (from bleach->kaggle) (0.5.1)\n",
            "Requirement already satisfied: text-unidecode>=1.3 in /usr/local/lib/python3.10/dist-packages (from python-slugify->kaggle) (1.3)\n",
            "Requirement already satisfied: charset-normalizer<4,>=2 in /usr/local/lib/python3.10/dist-packages (from requests->kaggle) (3.3.2)\n",
            "Requirement already satisfied: idna<4,>=2.5 in /usr/local/lib/python3.10/dist-packages (from requests->kaggle) (3.6)\n",
            "Collecting opendatasets\n",
            "  Downloading opendatasets-0.1.22-py3-none-any.whl (15 kB)\n",
            "Requirement already satisfied: tqdm in /usr/local/lib/python3.10/dist-packages (from opendatasets) (4.66.2)\n",
            "Requirement already satisfied: kaggle in /usr/local/lib/python3.10/dist-packages (from opendatasets) (1.5.16)\n",
            "Requirement already satisfied: click in /usr/local/lib/python3.10/dist-packages (from opendatasets) (8.1.7)\n",
            "Requirement already satisfied: six>=1.10 in /usr/local/lib/python3.10/dist-packages (from kaggle->opendatasets) (1.16.0)\n",
            "Requirement already satisfied: certifi in /usr/local/lib/python3.10/dist-packages (from kaggle->opendatasets) (2024.2.2)\n",
            "Requirement already satisfied: python-dateutil in /usr/local/lib/python3.10/dist-packages (from kaggle->opendatasets) (2.8.2)\n",
            "Requirement already satisfied: requests in /usr/local/lib/python3.10/dist-packages (from kaggle->opendatasets) (2.31.0)\n",
            "Requirement already satisfied: python-slugify in /usr/local/lib/python3.10/dist-packages (from kaggle->opendatasets) (8.0.4)\n",
            "Requirement already satisfied: urllib3 in /usr/local/lib/python3.10/dist-packages (from kaggle->opendatasets) (2.0.7)\n",
            "Requirement already satisfied: bleach in /usr/local/lib/python3.10/dist-packages (from kaggle->opendatasets) (6.1.0)\n",
            "Requirement already satisfied: webencodings in /usr/local/lib/python3.10/dist-packages (from bleach->kaggle->opendatasets) (0.5.1)\n",
            "Requirement already satisfied: text-unidecode>=1.3 in /usr/local/lib/python3.10/dist-packages (from python-slugify->kaggle->opendatasets) (1.3)\n",
            "Requirement already satisfied: charset-normalizer<4,>=2 in /usr/local/lib/python3.10/dist-packages (from requests->kaggle->opendatasets) (3.3.2)\n",
            "Requirement already satisfied: idna<4,>=2.5 in /usr/local/lib/python3.10/dist-packages (from requests->kaggle->opendatasets) (3.6)\n",
            "Installing collected packages: opendatasets\n",
            "Successfully installed opendatasets-0.1.22\n",
            "Please provide your Kaggle credentials to download this dataset. Learn more: http://bit.ly/kaggle-creds\n",
            "Your Kaggle username: srikrishnakireeti\n",
            "Your Kaggle Key: ··········\n",
            "Downloading kvasir-v2-a-gastrointestinal-tract-dataset.zip to ./kvasir-v2-a-gastrointestinal-tract-dataset\n"
          ]
        },
        {
          "output_type": "stream",
          "name": "stderr",
          "text": [
            "100%|██████████| 2.32G/2.32G [01:35<00:00, 26.2MB/s]\n"
          ]
        },
        {
          "output_type": "stream",
          "name": "stdout",
          "text": [
            "\n"
          ]
        }
      ]
    },
    {
      "cell_type": "code",
      "source": [
        "import tensorflow as tf\n",
        "from tensorflow.keras.preprocessing.image import ImageDataGenerator\n",
        "from tensorflow.keras.models import Sequential\n",
        "from tensorflow.keras.layers import Conv2D, MaxPooling2D, Flatten, Dense, GlobalAveragePooling2D, Dropout\n",
        "from tensorflow.keras.applications import ResNet50V2, MobileNetV3Large\n",
        "from tensorflow.keras.models import Sequential\n",
        "from tensorflow.keras.callbacks import ModelCheckpoint\n",
        "\n",
        "from tabulate import tabulate\n",
        "\n",
        "import matplotlib.pyplot as plt\n",
        "import seaborn as sns\n",
        "from sklearn.metrics import confusion_matrix\n",
        "\n",
        "import os\n",
        "import numpy as np\n",
        "import pandas as pd\n",
        "import shutil"
      ],
      "metadata": {
        "id": "siyUcAbRKMWd"
      },
      "execution_count": 7,
      "outputs": []
    },
    {
      "cell_type": "code",
      "source": [
        "rescale = preprocessing.Rescaling(1./255)\n",
        "\n",
        "data_augmentation = tf.keras.Sequential([\n",
        "    preprocessing.RandomContrast(factor=0.2),\n",
        "    preprocessing.RandomTranslation(height_factor=0.2, width_factor=0.2),\n",
        "    preprocessing.RandomRotation(factor=0.2),\n",
        "    preprocessing.RandomZoom(height_factor=0.2, width_factor=0.2),\n",
        "    preprocessing.RandomFlip(\"horizontal\"),\n",
        "    preprocessing.RandomFlip(\"vertical\")\n",
        "])\n",
        "\n",
        "train = image_dataset_from_directory(\n",
        "    dataset_path,\n",
        "    validation_split=0.4,\n",
        "    subset=\"training\",\n",
        "    label_mode=\"categorical\",\n",
        "    seed=23,\n",
        "    image_size=(224, 224),\n",
        "    batch_size=64\n",
        ").map(lambda x, y: (rescale(data_augmentation(x)), y))  # Apply rescaling and data augmentation to the images\n",
        "\n",
        "val = image_dataset_from_directory(\n",
        "    dataset_path,\n",
        "    validation_split=0.4,\n",
        "    subset=\"validation\",\n",
        "    label_mode=\"categorical\",\n",
        "    seed=23,\n",
        "    image_size=(224, 224),\n",
        "    batch_size=64\n",
        ").map(lambda x, y: (rescale(x), y))  # Only apply rescaling to the validation images\n"
      ],
      "metadata": {
        "colab": {
          "base_uri": "https://localhost:8080/"
        },
        "id": "trjl5g-tUIbu",
        "outputId": "3697ceb3-ab4d-4bb0-8ee0-362031f003c5"
      },
      "execution_count": 11,
      "outputs": [
        {
          "output_type": "stream",
          "name": "stdout",
          "text": [
            "Found 8000 files belonging to 8 classes.\n",
            "Using 4800 files for training.\n",
            "Found 8000 files belonging to 8 classes.\n",
            "Using 3200 files for validation.\n"
          ]
        }
      ]
    },
    {
      "cell_type": "code",
      "source": [
        "val_batches = tf.data.experimental.cardinality(val)\n",
        "test = val.take(val_batches // 2)\n",
        "val = val.skip(val_batches // 2)"
      ],
      "metadata": {
        "id": "DR5meKOGdSa2"
      },
      "execution_count": 12,
      "outputs": []
    },
    {
      "cell_type": "code",
      "source": [
        "AUTOTUNE = tf.data.AUTOTUNE\n",
        "\n",
        "train_ds = train.prefetch(buffer_size=AUTOTUNE)\n",
        "val_ds = val.prefetch(buffer_size=AUTOTUNE)\n",
        "test_ds = test.prefetch(buffer_size=AUTOTUNE)"
      ],
      "metadata": {
        "id": "4F3X0UPHeT-M"
      },
      "execution_count": 13,
      "outputs": []
    },
    {
      "cell_type": "code",
      "metadata": {
        "id": "B4hGoYQNRW3y",
        "outputId": "f3291668-849e-4b88-d969-c8d63c23b74b",
        "colab": {
          "base_uri": "https://localhost:8080/"
        }
      },
      "source": [
        "base_model = MobileNetV3Large(weights='imagenet' , include_top=False, input_shape=(224, 224, 3), classifier_activation=\"softmax\", dropout_rate=0.05)\n",
        "\n",
        "\n",
        "# Add your custom head on top of the base model\n",
        "model = Sequential([\n",
        "    base_model,\n",
        "    GlobalAveragePooling2D(),\n",
        "    Dense(8, activation='softmax')  # Assuming you have 8 classes\n",
        "])\n",
        "\n",
        "# Compile the model\n",
        "model.compile(optimizer='adam', loss='categorical_crossentropy', metrics=['accuracy'])\n",
        "\n",
        "# Display model summary\n",
        "model.summary()"
      ],
      "execution_count": 8,
      "outputs": [
        {
          "output_type": "stream",
          "name": "stdout",
          "text": [
            "Downloading data from https://storage.googleapis.com/tensorflow/keras-applications/mobilenet_v3/weights_mobilenet_v3_large_224_1.0_float_no_top_v2.h5\n",
            "12683000/12683000 [==============================] - 1s 0us/step\n",
            "Model: \"sequential_1\"\n",
            "_________________________________________________________________\n",
            " Layer (type)                Output Shape              Param #   \n",
            "=================================================================\n",
            " MobilenetV3large (Function  (None, 7, 7, 960)         2996352   \n",
            " al)                                                             \n",
            "                                                                 \n",
            " global_average_pooling2d (  (None, 960)               0         \n",
            " GlobalAveragePooling2D)                                         \n",
            "                                                                 \n",
            " dense (Dense)               (None, 8)                 7688      \n",
            "                                                                 \n",
            "=================================================================\n",
            "Total params: 3004040 (11.46 MB)\n",
            "Trainable params: 2979640 (11.37 MB)\n",
            "Non-trainable params: 24400 (95.31 KB)\n",
            "_________________________________________________________________\n"
          ]
        }
      ]
    },
    {
      "cell_type": "code",
      "metadata": {
        "id": "-w7_dt2SRW33",
        "outputId": "5ba2e008-759e-4a39-82b4-c672ad733704",
        "colab": {
          "base_uri": "https://localhost:8080/",
          "height": 1000
        }
      },
      "source": [
        "# %%time\n",
        "# Define callbacks\n",
        "checkpoint = ModelCheckpoint('best_MobileNet_model.h5', monitor='val_loss', save_best_only=True, mode='min', verbose=1)\n",
        "\n",
        "# Train the model\n",
        "history = model.fit(\n",
        "    train_ds,\n",
        "    epochs=50,\n",
        "    validation_data=val_ds,\n",
        "    callbacks=[checkpoint],\n",
        "    steps_per_epoch=tf.data.experimental.cardinality(train_ds).numpy(),\n",
        "    validation_steps=tf.data.experimental.cardinality(val_ds).numpy()\n",
        ")\n",
        "\n",
        "# Display training history\n",
        "plt.plot(history.history['loss'], label='train_loss')\n",
        "plt.plot(history.history['val_loss'], label='val_loss')\n",
        "plt.plot(history.history['accuracy'], label='train_accuracy')\n",
        "plt.plot(history.history['val_accuracy'], label='val_accuracy')\n",
        "plt.xlabel('Epoch')\n",
        "plt.ylabel('Loss/Accuracy')\n",
        "plt.legend()\n",
        "plt.show()"
      ],
      "execution_count": 14,
      "outputs": [
        {
          "output_type": "stream",
          "name": "stdout",
          "text": [
            "Epoch 1/50\n",
            "75/75 [==============================] - ETA: 0s - loss: 0.3351 - accuracy: 0.8694\n",
            "Epoch 1: val_loss improved from inf to 3.02067, saving model to best_MobileNet_model.h5\n"
          ]
        },
        {
          "output_type": "stream",
          "name": "stderr",
          "text": [
            "/usr/local/lib/python3.10/dist-packages/keras/src/engine/training.py:3103: UserWarning: You are saving your model as an HDF5 file via `model.save()`. This file format is considered legacy. We recommend using instead the native Keras format, e.g. `model.save('my_model.keras')`.\n",
            "  saving_api.save_model(\n"
          ]
        },
        {
          "output_type": "stream",
          "name": "stdout",
          "text": [
            "\b\b\b\b\b\b\b\b\b\b\b\b\b\b\b\b\b\b\b\b\b\b\b\b\b\b\b\b\b\b\b\b\b\b\b\b\b\b\b\b\b\b\b\b\b\b\b\b\b\b\b\b\b\b\b\b\b\b\b\b\b\b\b\b\b\b\b\b\b\b\b\b\b\b\b\b\b\b\b\b\b\b\r75/75 [==============================] - 150s 2s/step - loss: 0.3351 - accuracy: 0.8694 - val_loss: 3.0207 - val_accuracy: 0.1292\n",
            "Epoch 2/50\n",
            "75/75 [==============================] - ETA: 0s - loss: 0.2804 - accuracy: 0.8890\n",
            "Epoch 2: val_loss did not improve from 3.02067\n",
            "75/75 [==============================] - 159s 2s/step - loss: 0.2804 - accuracy: 0.8890 - val_loss: 3.7904 - val_accuracy: 0.1310\n",
            "Epoch 3/50\n",
            "75/75 [==============================] - ETA: 0s - loss: 0.2536 - accuracy: 0.8977\n",
            "Epoch 3: val_loss did not improve from 3.02067\n",
            "75/75 [==============================] - 164s 2s/step - loss: 0.2536 - accuracy: 0.8977 - val_loss: 4.5981 - val_accuracy: 0.1400\n",
            "Epoch 4/50\n",
            "75/75 [==============================] - ETA: 0s - loss: 0.2324 - accuracy: 0.9112\n",
            "Epoch 4: val_loss did not improve from 3.02067\n",
            "75/75 [==============================] - 147s 2s/step - loss: 0.2324 - accuracy: 0.9112 - val_loss: 5.1565 - val_accuracy: 0.1298\n",
            "Epoch 5/50\n",
            "75/75 [==============================] - ETA: 0s - loss: 0.2212 - accuracy: 0.9121\n",
            "Epoch 5: val_loss did not improve from 3.02067\n",
            "75/75 [==============================] - 142s 2s/step - loss: 0.2212 - accuracy: 0.9121 - val_loss: 11.7824 - val_accuracy: 0.1304\n",
            "Epoch 6/50\n",
            "75/75 [==============================] - ETA: 0s - loss: 0.1790 - accuracy: 0.9267\n",
            "Epoch 6: val_loss did not improve from 3.02067\n",
            "75/75 [==============================] - 164s 2s/step - loss: 0.1790 - accuracy: 0.9267 - val_loss: 12.4009 - val_accuracy: 0.1322\n",
            "Epoch 7/50\n",
            "75/75 [==============================] - ETA: 0s - loss: 0.1867 - accuracy: 0.9277\n",
            "Epoch 7: val_loss did not improve from 3.02067\n",
            "75/75 [==============================] - 149s 2s/step - loss: 0.1867 - accuracy: 0.9277 - val_loss: 10.9838 - val_accuracy: 0.1358\n",
            "Epoch 8/50\n",
            "75/75 [==============================] - ETA: 0s - loss: 0.1690 - accuracy: 0.9340\n",
            "Epoch 8: val_loss did not improve from 3.02067\n",
            "75/75 [==============================] - 141s 2s/step - loss: 0.1690 - accuracy: 0.9340 - val_loss: 5.2529 - val_accuracy: 0.1280\n",
            "Epoch 9/50\n",
            "75/75 [==============================] - ETA: 0s - loss: 0.1528 - accuracy: 0.9390\n",
            "Epoch 9: val_loss did not improve from 3.02067\n",
            "75/75 [==============================] - 157s 2s/step - loss: 0.1528 - accuracy: 0.9390 - val_loss: 6.4035 - val_accuracy: 0.1310\n",
            "Epoch 10/50\n",
            "75/75 [==============================] - ETA: 0s - loss: 0.1600 - accuracy: 0.9390\n",
            "Epoch 10: val_loss did not improve from 3.02067\n",
            "75/75 [==============================] - 146s 2s/step - loss: 0.1600 - accuracy: 0.9390 - val_loss: 10.1676 - val_accuracy: 0.1388\n",
            "Epoch 11/50\n",
            "75/75 [==============================] - ETA: 0s - loss: 0.1464 - accuracy: 0.9435\n",
            "Epoch 11: val_loss did not improve from 3.02067\n",
            "75/75 [==============================] - 147s 2s/step - loss: 0.1464 - accuracy: 0.9435 - val_loss: 6.6254 - val_accuracy: 0.1412\n",
            "Epoch 12/50\n",
            "75/75 [==============================] - ETA: 0s - loss: 0.1510 - accuracy: 0.9446\n",
            "Epoch 12: val_loss did not improve from 3.02067\n",
            "75/75 [==============================] - 144s 2s/step - loss: 0.1510 - accuracy: 0.9446 - val_loss: 142.1610 - val_accuracy: 0.1322\n",
            "Epoch 13/50\n",
            "75/75 [==============================] - ETA: 0s - loss: 0.1432 - accuracy: 0.9450\n",
            "Epoch 13: val_loss did not improve from 3.02067\n",
            "75/75 [==============================] - 141s 2s/step - loss: 0.1432 - accuracy: 0.9450 - val_loss: 9048.8887 - val_accuracy: 0.1310\n",
            "Epoch 14/50\n",
            "75/75 [==============================] - ETA: 0s - loss: 0.1197 - accuracy: 0.9510\n",
            "Epoch 14: val_loss did not improve from 3.02067\n",
            "75/75 [==============================] - 149s 2s/step - loss: 0.1197 - accuracy: 0.9510 - val_loss: 6.4506 - val_accuracy: 0.1304\n",
            "Epoch 15/50\n",
            "75/75 [==============================] - ETA: 0s - loss: 0.1220 - accuracy: 0.9552\n",
            "Epoch 15: val_loss did not improve from 3.02067\n",
            "75/75 [==============================] - 147s 2s/step - loss: 0.1220 - accuracy: 0.9552 - val_loss: 7.0950 - val_accuracy: 0.1298\n",
            "Epoch 16/50\n",
            "75/75 [==============================] - ETA: 0s - loss: 0.1165 - accuracy: 0.9573\n",
            "Epoch 16: val_loss did not improve from 3.02067\n",
            "75/75 [==============================] - 150s 2s/step - loss: 0.1165 - accuracy: 0.9573 - val_loss: 42.3267 - val_accuracy: 0.0913\n",
            "Epoch 17/50\n",
            "75/75 [==============================] - ETA: 0s - loss: 0.1106 - accuracy: 0.9575\n",
            "Epoch 17: val_loss did not improve from 3.02067\n",
            "75/75 [==============================] - 155s 2s/step - loss: 0.1106 - accuracy: 0.9575 - val_loss: 7011.5259 - val_accuracy: 0.1136\n",
            "Epoch 18/50\n",
            "75/75 [==============================] - ETA: 0s - loss: 0.1008 - accuracy: 0.9613\n",
            "Epoch 18: val_loss did not improve from 3.02067\n",
            "75/75 [==============================] - 153s 2s/step - loss: 0.1008 - accuracy: 0.9613 - val_loss: 5652.2158 - val_accuracy: 0.1328\n",
            "Epoch 19/50\n",
            "75/75 [==============================] - ETA: 0s - loss: 0.1227 - accuracy: 0.9529\n",
            "Epoch 19: val_loss did not improve from 3.02067\n",
            "75/75 [==============================] - 154s 2s/step - loss: 0.1227 - accuracy: 0.9529 - val_loss: 14127.7295 - val_accuracy: 0.1118\n",
            "Epoch 20/50\n",
            "75/75 [==============================] - ETA: 0s - loss: 0.1204 - accuracy: 0.9567\n",
            "Epoch 20: val_loss did not improve from 3.02067\n",
            "75/75 [==============================] - 148s 2s/step - loss: 0.1204 - accuracy: 0.9567 - val_loss: 254407.7500 - val_accuracy: 0.1316\n",
            "Epoch 21/50\n",
            "75/75 [==============================] - ETA: 0s - loss: 0.1007 - accuracy: 0.9610\n",
            "Epoch 21: val_loss did not improve from 3.02067\n",
            "75/75 [==============================] - 146s 2s/step - loss: 0.1007 - accuracy: 0.9610 - val_loss: 97894.1172 - val_accuracy: 0.1160\n",
            "Epoch 22/50\n",
            "75/75 [==============================] - ETA: 0s - loss: 0.0921 - accuracy: 0.9652\n",
            "Epoch 22: val_loss did not improve from 3.02067\n",
            "75/75 [==============================] - 147s 2s/step - loss: 0.0921 - accuracy: 0.9652 - val_loss: 6076.3340 - val_accuracy: 0.0901\n",
            "Epoch 23/50\n",
            "75/75 [==============================] - ETA: 0s - loss: 0.0908 - accuracy: 0.9704\n",
            "Epoch 23: val_loss did not improve from 3.02067\n",
            "75/75 [==============================] - 142s 2s/step - loss: 0.0908 - accuracy: 0.9704 - val_loss: 12919.0889 - val_accuracy: 0.1286\n",
            "Epoch 24/50\n",
            "75/75 [==============================] - ETA: 0s - loss: 0.1388 - accuracy: 0.9519\n",
            "Epoch 24: val_loss did not improve from 3.02067\n",
            "75/75 [==============================] - 143s 2s/step - loss: 0.1388 - accuracy: 0.9519 - val_loss: 1287760.1250 - val_accuracy: 0.0697\n",
            "Epoch 25/50\n",
            "75/75 [==============================] - ETA: 0s - loss: 0.1148 - accuracy: 0.9558\n",
            "Epoch 25: val_loss did not improve from 3.02067\n",
            "75/75 [==============================] - 148s 2s/step - loss: 0.1148 - accuracy: 0.9558 - val_loss: 6278.0698 - val_accuracy: 0.1238\n",
            "Epoch 26/50\n",
            "75/75 [==============================] - ETA: 0s - loss: 0.0885 - accuracy: 0.9663\n",
            "Epoch 26: val_loss did not improve from 3.02067\n",
            "75/75 [==============================] - 146s 2s/step - loss: 0.0885 - accuracy: 0.9663 - val_loss: 12444.9023 - val_accuracy: 0.1202\n",
            "Epoch 27/50\n",
            "75/75 [==============================] - ETA: 0s - loss: 0.0934 - accuracy: 0.9644\n",
            "Epoch 27: val_loss did not improve from 3.02067\n",
            "75/75 [==============================] - 143s 2s/step - loss: 0.0934 - accuracy: 0.9644 - val_loss: 1910.4794 - val_accuracy: 0.1268\n",
            "Epoch 28/50\n",
            "75/75 [==============================] - ETA: 0s - loss: 0.0869 - accuracy: 0.9683\n",
            "Epoch 28: val_loss did not improve from 3.02067\n",
            "75/75 [==============================] - 142s 2s/step - loss: 0.0869 - accuracy: 0.9683 - val_loss: 3388.7175 - val_accuracy: 0.1394\n",
            "Epoch 29/50\n",
            "75/75 [==============================] - ETA: 0s - loss: 0.0687 - accuracy: 0.9735\n",
            "Epoch 29: val_loss did not improve from 3.02067\n",
            "75/75 [==============================] - 165s 2s/step - loss: 0.0687 - accuracy: 0.9735 - val_loss: 30.4990 - val_accuracy: 0.1172\n",
            "Epoch 30/50\n",
            "75/75 [==============================] - ETA: 0s - loss: 0.0743 - accuracy: 0.9737\n",
            "Epoch 30: val_loss did not improve from 3.02067\n",
            "75/75 [==============================] - 149s 2s/step - loss: 0.0743 - accuracy: 0.9737 - val_loss: 964.1279 - val_accuracy: 0.1070\n",
            "Epoch 31/50\n",
            "75/75 [==============================] - ETA: 0s - loss: 0.0669 - accuracy: 0.9762\n",
            "Epoch 31: val_loss did not improve from 3.02067\n",
            "75/75 [==============================] - 146s 2s/step - loss: 0.0669 - accuracy: 0.9762 - val_loss: 28.7712 - val_accuracy: 0.1202\n",
            "Epoch 32/50\n",
            "75/75 [==============================] - ETA: 0s - loss: 0.1088 - accuracy: 0.9619\n",
            "Epoch 32: val_loss did not improve from 3.02067\n",
            "75/75 [==============================] - 149s 2s/step - loss: 0.1088 - accuracy: 0.9619 - val_loss: 384.5333 - val_accuracy: 0.1388\n",
            "Epoch 33/50\n",
            "75/75 [==============================] - ETA: 0s - loss: 0.0935 - accuracy: 0.9658\n",
            "Epoch 33: val_loss did not improve from 3.02067\n",
            "75/75 [==============================] - 148s 2s/step - loss: 0.0935 - accuracy: 0.9658 - val_loss: 10.1251 - val_accuracy: 0.0944\n",
            "Epoch 34/50\n",
            "75/75 [==============================] - ETA: 0s - loss: 0.0862 - accuracy: 0.9692\n",
            "Epoch 34: val_loss did not improve from 3.02067\n",
            "75/75 [==============================] - 144s 2s/step - loss: 0.0862 - accuracy: 0.9692 - val_loss: 2939.1604 - val_accuracy: 0.1298\n",
            "Epoch 35/50\n",
            "75/75 [==============================] - ETA: 0s - loss: 0.0748 - accuracy: 0.9723\n",
            "Epoch 35: val_loss did not improve from 3.02067\n",
            "75/75 [==============================] - 143s 2s/step - loss: 0.0748 - accuracy: 0.9723 - val_loss: 71887.1172 - val_accuracy: 0.1226\n",
            "Epoch 36/50\n",
            "75/75 [==============================] - ETA: 0s - loss: 0.0686 - accuracy: 0.9740\n",
            "Epoch 36: val_loss did not improve from 3.02067\n",
            "75/75 [==============================] - 144s 2s/step - loss: 0.0686 - accuracy: 0.9740 - val_loss: 59877.3359 - val_accuracy: 0.1190\n",
            "Epoch 37/50\n",
            "75/75 [==============================] - ETA: 0s - loss: 0.0627 - accuracy: 0.9777\n",
            "Epoch 37: val_loss did not improve from 3.02067\n",
            "75/75 [==============================] - 140s 2s/step - loss: 0.0627 - accuracy: 0.9777 - val_loss: 23098.4199 - val_accuracy: 0.1316\n",
            "Epoch 38/50\n",
            "75/75 [==============================] - ETA: 0s - loss: 0.0456 - accuracy: 0.9840\n",
            "Epoch 38: val_loss did not improve from 3.02067\n",
            "75/75 [==============================] - 135s 2s/step - loss: 0.0456 - accuracy: 0.9840 - val_loss: 13914.8213 - val_accuracy: 0.1070\n",
            "Epoch 39/50\n",
            "75/75 [==============================] - ETA: 0s - loss: 0.0552 - accuracy: 0.9790\n",
            "Epoch 39: val_loss did not improve from 3.02067\n",
            "75/75 [==============================] - 134s 2s/step - loss: 0.0552 - accuracy: 0.9790 - val_loss: 29.8000 - val_accuracy: 0.1154\n",
            "Epoch 40/50\n",
            "75/75 [==============================] - ETA: 0s - loss: 0.0790 - accuracy: 0.9719\n",
            "Epoch 40: val_loss did not improve from 3.02067\n",
            "75/75 [==============================] - 141s 2s/step - loss: 0.0790 - accuracy: 0.9719 - val_loss: 1198.9659 - val_accuracy: 0.0733\n",
            "Epoch 41/50\n",
            "75/75 [==============================] - ETA: 0s - loss: 0.0850 - accuracy: 0.9706\n",
            "Epoch 41: val_loss did not improve from 3.02067\n",
            "75/75 [==============================] - 142s 2s/step - loss: 0.0850 - accuracy: 0.9706 - val_loss: 103.6963 - val_accuracy: 0.1292\n",
            "Epoch 42/50\n",
            "75/75 [==============================] - ETA: 0s - loss: 0.0542 - accuracy: 0.9802\n",
            "Epoch 42: val_loss did not improve from 3.02067\n",
            "75/75 [==============================] - 153s 2s/step - loss: 0.0542 - accuracy: 0.9802 - val_loss: 13.0673 - val_accuracy: 0.1400\n",
            "Epoch 43/50\n",
            "75/75 [==============================] - ETA: 0s - loss: 0.0527 - accuracy: 0.9777\n",
            "Epoch 43: val_loss did not improve from 3.02067\n",
            "75/75 [==============================] - 135s 2s/step - loss: 0.0527 - accuracy: 0.9777 - val_loss: 4.1433 - val_accuracy: 0.1238\n",
            "Epoch 44/50\n",
            "75/75 [==============================] - ETA: 0s - loss: 0.0449 - accuracy: 0.9837\n",
            "Epoch 44: val_loss did not improve from 3.02067\n",
            "75/75 [==============================] - 140s 2s/step - loss: 0.0449 - accuracy: 0.9837 - val_loss: 4.3137 - val_accuracy: 0.0331\n",
            "Epoch 45/50\n",
            "75/75 [==============================] - ETA: 0s - loss: 0.0611 - accuracy: 0.9769\n",
            "Epoch 45: val_loss improved from 3.02067 to 2.28368, saving model to best_MobileNet_model.h5\n",
            "75/75 [==============================] - 141s 2s/step - loss: 0.0611 - accuracy: 0.9769 - val_loss: 2.2837 - val_accuracy: 0.2115\n",
            "Epoch 46/50\n",
            "75/75 [==============================] - ETA: 0s - loss: 0.0532 - accuracy: 0.9840\n",
            "Epoch 46: val_loss did not improve from 2.28368\n",
            "75/75 [==============================] - 140s 2s/step - loss: 0.0532 - accuracy: 0.9840 - val_loss: 79500.1484 - val_accuracy: 0.1214\n",
            "Epoch 47/50\n",
            "75/75 [==============================] - ETA: 0s - loss: 0.0447 - accuracy: 0.9854\n",
            "Epoch 47: val_loss did not improve from 2.28368\n",
            "75/75 [==============================] - 156s 2s/step - loss: 0.0447 - accuracy: 0.9854 - val_loss: 2.9226 - val_accuracy: 0.2644\n",
            "Epoch 48/50\n",
            "75/75 [==============================] - ETA: 0s - loss: 0.0537 - accuracy: 0.9827\n",
            "Epoch 48: val_loss did not improve from 2.28368\n",
            "75/75 [==============================] - 139s 2s/step - loss: 0.0537 - accuracy: 0.9827 - val_loss: 17607.6953 - val_accuracy: 0.1334\n",
            "Epoch 49/50\n",
            "75/75 [==============================] - ETA: 0s - loss: 0.0461 - accuracy: 0.9810\n",
            "Epoch 49: val_loss did not improve from 2.28368\n",
            "75/75 [==============================] - 140s 2s/step - loss: 0.0461 - accuracy: 0.9810 - val_loss: 4595.9048 - val_accuracy: 0.1220\n",
            "Epoch 50/50\n",
            "75/75 [==============================] - ETA: 0s - loss: 0.0493 - accuracy: 0.9840\n",
            "Epoch 50: val_loss did not improve from 2.28368\n",
            "75/75 [==============================] - 140s 2s/step - loss: 0.0493 - accuracy: 0.9840 - val_loss: 6818.4185 - val_accuracy: 0.0974\n"
          ]
        },
        {
          "output_type": "display_data",
          "data": {
            "text/plain": [
              "<Figure size 640x480 with 1 Axes>"
            ],
            "image/png": "[encoded data removed]"
          },
          "metadata": {}
        }
      ]
    },
    {
      "cell_type": "code",
      "source": [
        "model.load_weights('/content/best_MobileNet_model.h5')\n",
        "\n",
        "test_loss, test_accuracy = model.evaluate(test_ds)\n",
        "print('Test loss:', test_loss)\n",
        "print('Test accuracy:', test_accuracy)"
      ],
      "metadata": {
        "id": "99wrKGjprBAD",
        "colab": {
          "base_uri": "https://localhost:8080/"
        },
        "outputId": "53d440ec-4812-4ec5-b60d-54b5a4baa4dd"
      },
      "execution_count": 15,
      "outputs": [
        {
          "output_type": "stream",
          "name": "stdout",
          "text": [
            "25/25 [==============================] - 17s 507ms/step - loss: 2.2973 - accuracy: 0.2106\n",
            "Test loss: 2.29731822013855\n",
            "Test accuracy: 0.21062499284744263\n"
          ]
        }
      ]
    },
    {
      "cell_type": "code",
      "source": [
        "import numpy as np\n",
        "import seaborn as sns\n",
        "from sklearn.metrics import confusion_matrix\n",
        "\n",
        "y_true = []\n",
        "y_pred = []\n",
        "\n",
        "# Iterate over the test dataset to get true labels and predictions\n",
        "for x, y in test_ds:\n",
        "    y_true.extend(y.numpy().argmax(axis=1))  # Assuming y is one-hot encoded\n",
        "    y_pred.extend(model.predict(x).argmax(axis=1))\n",
        "\n",
        "cm = confusion_matrix(y_true, y_pred)\n",
        "\n",
        "print(cm)\n",
        "\n",
        "plt.figure(figsize=(10, 6))\n",
        "sns.heatmap(cm, annot=True, fmt='d', cmap='Blues')\n",
        "plt.xlabel('Predicted Labels')\n",
        "plt.ylabel('True Labels')\n",
        "plt.title('Confusion Matrix')\n",
        "plt.show()\n"
      ],
      "metadata": {
        "id": "defnXPr7ifJf",
        "colab": {
          "base_uri": "https://localhost:8080/",
          "height": 1000
        },
        "outputId": "cc84c1f3-7f29-434e-b568-5402b018b97e"
      },
      "execution_count": 19,
      "outputs": [
        {
          "output_type": "stream",
          "name": "stdout",
          "text": [
            "2/2 [==============================] - 5s 20ms/step\n",
            "2/2 [==============================] - 0s 36ms/step\n",
            "2/2 [==============================] - 0s 35ms/step\n",
            "2/2 [==============================] - 0s 57ms/step\n",
            "2/2 [==============================] - 0s 27ms/step\n",
            "2/2 [==============================] - 0s 38ms/step\n",
            "2/2 [==============================] - 0s 36ms/step\n",
            "2/2 [==============================] - 0s 41ms/step\n",
            "2/2 [==============================] - 0s 31ms/step\n",
            "2/2 [==============================] - 0s 38ms/step\n",
            "2/2 [==============================] - 0s 45ms/step\n",
            "2/2 [==============================] - 0s 58ms/step\n",
            "2/2 [==============================] - 0s 48ms/step\n",
            "2/2 [==============================] - 0s 54ms/step\n",
            "2/2 [==============================] - 0s 45ms/step\n",
            "2/2 [==============================] - 0s 49ms/step\n",
            "2/2 [==============================] - 0s 61ms/step\n",
            "2/2 [==============================] - 0s 56ms/step\n",
            "2/2 [==============================] - 0s 48ms/step\n",
            "2/2 [==============================] - 0s 40ms/step\n",
            "2/2 [==============================] - 0s 49ms/step\n",
            "2/2 [==============================] - 0s 68ms/step\n",
            "2/2 [==============================] - 0s 78ms/step\n",
            "2/2 [==============================] - 0s 56ms/step\n",
            "2/2 [==============================] - 0s 61ms/step\n",
            "[[  4  87   0   0   0   0  43  72]\n",
            " [ 10 133   0   0   0   0  26  31]\n",
            " [  0   0   0   0   0   0  10 201]\n",
            " [  1  17   0   0   0   0  59 119]\n",
            " [  0   0   0   0   0   0  65 116]\n",
            " [  0   0   0   0   0   0  19 181]\n",
            " [  2  22   0   0   0   0  69 111]\n",
            " [ 10   9   0   0   0   0  45 138]]\n"
          ]
        },
        {
          "output_type": "display_data",
          "data": {
            "text/plain": [
              "<Figure size 1000x600 with 2 Axes>"
            ],
            "image/png": "[encoded data removed]"
          },
          "metadata": {}
        }
      ]
    }
  ]
}
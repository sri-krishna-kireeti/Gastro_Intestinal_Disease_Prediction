{
  "nbformat": 4,
  "nbformat_minor": 0,
  "metadata": {
    "kernelspec": {
      "display_name": "Python 3",
      "name": "python3"
    },
    "language_info": {
      "codemirror_mode": {
        "name": "ipython",
        "version": 3
      },
      "file_extension": ".py",
      "mimetype": "text/x-python",
      "name": "python",
      "nbconvert_exporter": "python",
      "pygments_lexer": "ipython3",
      "version": "3.6.6"
    },
    "colab": {
      "provenance": []
    }
  },
  "cells": [
    {
      "cell_type": "markdown",
      "source": [
        "Step 1: Importing Dataset from Kaggle (2.6Gb)"
      ],
      "metadata": {
        "id": "bLmy3dVAe1rH"
      }
    },
    {
      "cell_type": "code",
      "source": [
        "!pip install kaggle\n",
        "!pip install opendatasets\n",
        "\n",
        "\n",
        "import opendatasets as od\n",
        "\n",
        "od.download(\"https://www.kaggle.com/datasets/plhalvorsen/kvasir-v2-a-gastrointestinal-tract-dataset\")"
      ],
      "metadata": {
        "colab": {
          "base_uri": "https://localhost:8080/"
        },
        "id": "pXC9KnUPOY5i",
        "outputId": "8fb9f230-976c-4e17-db1c-f163370b1072"
      },
      "execution_count": 5,
      "outputs": [
        {
          "output_type": "stream",
          "name": "stdout",
          "text": [
            "Requirement already satisfied: kaggle in /usr/local/lib/python3.10/dist-packages (1.5.16)\n",
            "Requirement already satisfied: six>=1.10 in /usr/local/lib/python3.10/dist-packages (from kaggle) (1.16.0)\n",
            "Requirement already satisfied: certifi in /usr/local/lib/python3.10/dist-packages (from kaggle) (2024.2.2)\n",
            "Requirement already satisfied: python-dateutil in /usr/local/lib/python3.10/dist-packages (from kaggle) (2.8.2)\n",
            "Requirement already satisfied: requests in /usr/local/lib/python3.10/dist-packages (from kaggle) (2.31.0)\n",
            "Requirement already satisfied: tqdm in /usr/local/lib/python3.10/dist-packages (from kaggle) (4.66.2)\n",
            "Requirement already satisfied: python-slugify in /usr/local/lib/python3.10/dist-packages (from kaggle) (8.0.4)\n",
            "Requirement already satisfied: urllib3 in /usr/local/lib/python3.10/dist-packages (from kaggle) (2.0.7)\n",
            "Requirement already satisfied: bleach in /usr/local/lib/python3.10/dist-packages (from kaggle) (6.1.0)\n",
            "Requirement already satisfied: webencodings in /usr/local/lib/python3.10/dist-packages (from bleach->kaggle) (0.5.1)\n",
            "Requirement already satisfied: text-unidecode>=1.3 in /usr/local/lib/python3.10/dist-packages (from python-slugify->kaggle) (1.3)\n",
            "Requirement already satisfied: charset-normalizer<4,>=2 in /usr/local/lib/python3.10/dist-packages (from requests->kaggle) (3.3.2)\n",
            "Requirement already satisfied: idna<4,>=2.5 in /usr/local/lib/python3.10/dist-packages (from requests->kaggle) (3.6)\n",
            "Collecting opendatasets\n",
            "  Downloading opendatasets-0.1.22-py3-none-any.whl (15 kB)\n",
            "Requirement already satisfied: tqdm in /usr/local/lib/python3.10/dist-packages (from opendatasets) (4.66.2)\n",
            "Requirement already satisfied: kaggle in /usr/local/lib/python3.10/dist-packages (from opendatasets) (1.5.16)\n",
            "Requirement already satisfied: click in /usr/local/lib/python3.10/dist-packages (from opendatasets) (8.1.7)\n",
            "Requirement already satisfied: six>=1.10 in /usr/local/lib/python3.10/dist-packages (from kaggle->opendatasets) (1.16.0)\n",
            "Requirement already satisfied: certifi in /usr/local/lib/python3.10/dist-packages (from kaggle->opendatasets) (2024.2.2)\n",
            "Requirement already satisfied: python-dateutil in /usr/local/lib/python3.10/dist-packages (from kaggle->opendatasets) (2.8.2)\n",
            "Requirement already satisfied: requests in /usr/local/lib/python3.10/dist-packages (from kaggle->opendatasets) (2.31.0)\n",
            "Requirement already satisfied: python-slugify in /usr/local/lib/python3.10/dist-packages (from kaggle->opendatasets) (8.0.4)\n",
            "Requirement already satisfied: urllib3 in /usr/local/lib/python3.10/dist-packages (from kaggle->opendatasets) (2.0.7)\n",
            "Requirement already satisfied: bleach in /usr/local/lib/python3.10/dist-packages (from kaggle->opendatasets) (6.1.0)\n",
            "Requirement already satisfied: webencodings in /usr/local/lib/python3.10/dist-packages (from bleach->kaggle->opendatasets) (0.5.1)\n",
            "Requirement already satisfied: text-unidecode>=1.3 in /usr/local/lib/python3.10/dist-packages (from python-slugify->kaggle->opendatasets) (1.3)\n",
            "Requirement already satisfied: charset-normalizer<4,>=2 in /usr/local/lib/python3.10/dist-packages (from requests->kaggle->opendatasets) (3.3.2)\n",
            "Requirement already satisfied: idna<4,>=2.5 in /usr/local/lib/python3.10/dist-packages (from requests->kaggle->opendatasets) (3.6)\n",
            "Installing collected packages: opendatasets\n",
            "Successfully installed opendatasets-0.1.22\n",
            "Please provide your Kaggle credentials to download this dataset. Learn more: http://bit.ly/kaggle-creds\n",
            "Your Kaggle username: srikrishnakireeti\n",
            "Your Kaggle Key: ··········\n",
            "Downloading kvasir-v2-a-gastrointestinal-tract-dataset.zip to ./kvasir-v2-a-gastrointestinal-tract-dataset\n"
          ]
        },
        {
          "output_type": "stream",
          "name": "stderr",
          "text": [
            "100%|██████████| 2.32G/2.32G [00:34<00:00, 72.2MB/s]\n"
          ]
        },
        {
          "output_type": "stream",
          "name": "stdout",
          "text": [
            "\n"
          ]
        }
      ]
    },
    {
      "cell_type": "code",
      "source": [
        "import tensorflow as tf\n",
        "from tensorflow.keras.preprocessing.image import ImageDataGenerator\n",
        "from tensorflow.keras.models import Sequential\n",
        "from tensorflow.keras.layers import Conv2D, MaxPooling2D, Flatten, Dense, GlobalAveragePooling2D, Dropout\n",
        "from tensorflow.keras.applications import ResNet50V2, EfficientNetV2L, MobileNetV3Large\n",
        "from tensorflow.keras.models import Sequential\n",
        "from tensorflow.keras.callbacks import ModelCheckpoint\n",
        "from tensorflow.keras.utils import image_dataset_from_directory\n",
        "from tensorflow.keras.layers.experimental import preprocessing\n",
        "\n",
        "from tabulate import tabulate\n",
        "\n",
        "import matplotlib.pyplot as plt\n",
        "import seaborn as sns\n",
        "from sklearn.metrics import confusion_matrix\n",
        "\n",
        "import os\n",
        "import numpy as np\n",
        "import pandas as pd\n",
        "import shutil"
      ],
      "metadata": {
        "id": "siyUcAbRKMWd"
      },
      "execution_count": 2,
      "outputs": []
    },
    {
      "cell_type": "code",
      "source": [
        "dataset_path = \"/content/kvasir-v2-a-gastrointestinal-tract-dataset\"\n",
        "\n",
        "labels = os.listdir(dataset_path)\n",
        "data = []\n",
        "\n",
        "for label in labels:\n",
        "    length = len(os.listdir(os.path.join(dataset_path, label, label)))\n",
        "    data.append([label, length])\n",
        "\n",
        "print(tabulate(data, headers=['Type', 'Number of Files']))"
      ],
      "metadata": {
        "colab": {
          "base_uri": "https://localhost:8080/"
        },
        "id": "o-COogYZ1I1-",
        "outputId": "8c053588-0208-47e3-8ca5-a2488b4a9fd5"
      },
      "execution_count": 6,
      "outputs": [
        {
          "output_type": "stream",
          "name": "stdout",
          "text": [
            "Type                      Number of Files\n",
            "----------------------  -----------------\n",
            "dyed-lifted-polyps                   1000\n",
            "esophagitis                          1000\n",
            "ulcerative-colitis                   1000\n",
            "normal-pylorus                       1000\n",
            "polyps                               1000\n",
            "normal-cecum                         1000\n",
            "dyed-resection-margins               1000\n",
            "normal-z-line                        1000\n"
          ]
        }
      ]
    },
    {
      "cell_type": "code",
      "source": [
        "rescale = preprocessing.Rescaling(1./255)\n",
        "\n",
        "data_augmentation = tf.keras.Sequential([\n",
        "    preprocessing.RandomContrast(factor=0.2),\n",
        "    preprocessing.RandomTranslation(height_factor=0.2, width_factor=0.2),\n",
        "    preprocessing.RandomRotation(factor=0.2),\n",
        "    preprocessing.RandomZoom(height_factor=0.2, width_factor=0.2),\n",
        "    preprocessing.RandomFlip(\"horizontal\"),\n",
        "    preprocessing.RandomFlip(\"vertical\")\n",
        "])\n",
        "\n",
        "train = image_dataset_from_directory(\n",
        "    dataset_path,\n",
        "    validation_split=0.4,\n",
        "    subset=\"training\",\n",
        "    label_mode=\"categorical\",\n",
        "    seed=23,\n",
        "    image_size=(224, 224),\n",
        "    batch_size=64\n",
        ").map(lambda x, y: (rescale(data_augmentation(x)), y))  # Apply rescaling and data augmentation to the images\n",
        "\n",
        "val = image_dataset_from_directory(\n",
        "    dataset_path,\n",
        "    validation_split=0.4,\n",
        "    subset=\"validation\",\n",
        "    label_mode=\"categorical\",\n",
        "    seed=23,\n",
        "    image_size=(224, 224),\n",
        "    batch_size=64\n",
        ").map(lambda x, y: (rescale(x), y))  # Only apply rescaling to the validation images\n"
      ],
      "metadata": {
        "colab": {
          "base_uri": "https://localhost:8080/"
        },
        "id": "trjl5g-tUIbu",
        "outputId": "0094aa05-8a1f-41d8-d5b9-7e1d4a107436"
      },
      "execution_count": 14,
      "outputs": [
        {
          "output_type": "stream",
          "name": "stdout",
          "text": [
            "Found 8000 files belonging to 8 classes.\n",
            "Using 4800 files for training.\n",
            "Found 8000 files belonging to 8 classes.\n",
            "Using 3200 files for validation.\n"
          ]
        }
      ]
    },
    {
      "cell_type": "code",
      "source": [
        "val_batches = tf.data.experimental.cardinality(val)\n",
        "test = val.take(val_batches // 2)\n",
        "val = val.skip(val_batches // 2)"
      ],
      "metadata": {
        "id": "DR5meKOGdSa2"
      },
      "execution_count": 5,
      "outputs": []
    },
    {
      "cell_type": "code",
      "source": [
        "AUTOTUNE = tf.data.AUTOTUNE\n",
        "\n",
        "train_ds = train.prefetch(buffer_size=AUTOTUNE)\n",
        "val_ds = val.prefetch(buffer_size=AUTOTUNE)\n",
        "test_ds = test.prefetch(buffer_size=AUTOTUNE)"
      ],
      "metadata": {
        "id": "4F3X0UPHeT-M"
      },
      "execution_count": 6,
      "outputs": []
    },
    {
      "cell_type": "markdown",
      "source": [
        "# **1. RESNET50**"
      ],
      "metadata": {
        "id": "J7bNh1hkXO9L"
      }
    },
    {
      "cell_type": "code",
      "metadata": {
        "id": "B4hGoYQNRW3y",
        "outputId": "7b37aa42-4108-4bc7-f599-cbfb8d1288b1",
        "colab": {
          "base_uri": "https://localhost:8080/"
        }
      },
      "source": [
        "base_model = ResNet50V2(weights='imagenet' , include_top=False, input_shape=(224, 224, 3), classifier_activation=\"softmax\")\n",
        "\n",
        "model = Sequential([\n",
        "    base_model,\n",
        "    GlobalAveragePooling2D(),\n",
        "    Dense(8, activation='softmax')\n",
        "])\n",
        "\n",
        "model.compile(optimizer='adam', loss='categorical_crossentropy', metrics=['accuracy'])\n",
        "\n",
        "model.summary()"
      ],
      "execution_count": 7,
      "outputs": [
        {
          "output_type": "stream",
          "name": "stdout",
          "text": [
            "Downloading data from https://storage.googleapis.com/tensorflow/keras-applications/resnet/resnet50v2_weights_tf_dim_ordering_tf_kernels_notop.h5\n",
            "94668760/94668760 [==============================] - 1s 0us/step\n",
            "Model: \"sequential_1\"\n",
            "_________________________________________________________________\n",
            " Layer (type)                Output Shape              Param #   \n",
            "=================================================================\n",
            " resnet50v2 (Functional)     (None, 7, 7, 2048)        23564800  \n",
            "                                                                 \n",
            " global_average_pooling2d (  (None, 2048)              0         \n",
            " GlobalAveragePooling2D)                                         \n",
            "                                                                 \n",
            " dense (Dense)               (None, 8)                 16392     \n",
            "                                                                 \n",
            "=================================================================\n",
            "Total params: 23581192 (89.96 MB)\n",
            "Trainable params: 23535752 (89.78 MB)\n",
            "Non-trainable params: 45440 (177.50 KB)\n",
            "_________________________________________________________________\n"
          ]
        }
      ]
    },
    {
      "cell_type": "code",
      "metadata": {
        "id": "-w7_dt2SRW33",
        "outputId": "89ea5d80-c8c4-4349-b877-03b54273788a",
        "colab": {
          "base_uri": "https://localhost:8080/",
          "height": 1000
        }
      },
      "source": [
        "checkpoint = ModelCheckpoint('best_ResNet50_model.h5', monitor='val_loss', save_best_only=True, mode='min', verbose=1)\n",
        "\n",
        "# Train the model\n",
        "history = model.fit(\n",
        "    train_ds,\n",
        "    epochs=50,\n",
        "    validation_data=val_ds,\n",
        "    callbacks=[checkpoint],\n",
        "    steps_per_epoch=tf.data.experimental.cardinality(train_ds).numpy(),\n",
        "    validation_steps=tf.data.experimental.cardinality(val_ds).numpy()\n",
        ")\n",
        "\n",
        "# Display training history\n",
        "plt.plot(history.history['loss'], label='train_loss')\n",
        "plt.plot(history.history['val_loss'], label='val_loss')\n",
        "plt.plot(history.history['accuracy'], label='train_accuracy')\n",
        "plt.plot(history.history['val_accuracy'], label='val_accuracy')\n",
        "plt.xlabel('Epoch')\n",
        "plt.ylabel('Loss/Accuracy')\n",
        "plt.legend()\n",
        "plt.show()"
      ],
      "execution_count": 8,
      "outputs": [
        {
          "output_type": "stream",
          "name": "stdout",
          "text": [
            "Epoch 1/50\n",
            "75/75 [==============================] - ETA: 0s - loss: 0.8365 - accuracy: 0.6842\n",
            "Epoch 1: val_loss improved from inf to 8.80097, saving model to best_ResNet50_model.h5\n"
          ]
        },
        {
          "output_type": "stream",
          "name": "stderr",
          "text": [
            "/usr/local/lib/python3.10/dist-packages/keras/src/engine/training.py:3103: UserWarning: You are saving your model as an HDF5 file via `model.save()`. This file format is considered legacy. We recommend using instead the native Keras format, e.g. `model.save('my_model.keras')`.\n",
            "  saving_api.save_model(\n"
          ]
        },
        {
          "output_type": "stream",
          "name": "stdout",
          "text": [
            "\b\b\b\b\b\b\b\b\b\b\b\b\b\b\b\b\b\b\b\b\b\b\b\b\b\b\b\b\b\b\b\b\b\b\b\b\b\b\b\b\b\b\b\b\b\b\b\b\b\b\b\b\b\b\b\b\b\b\b\b\b\b\b\b\b\b\b\b\b\b\b\b\b\b\b\b\b\b\b\b\b\b\r75/75 [==============================] - 207s 2s/step - loss: 0.8365 - accuracy: 0.6842 - val_loss: 8.8010 - val_accuracy: 0.2375\n",
            "Epoch 2/50\n",
            "75/75 [==============================] - ETA: 0s - loss: 0.5228 - accuracy: 0.7996\n",
            "Epoch 2: val_loss improved from 8.80097 to 1.59227, saving model to best_ResNet50_model.h5\n",
            "75/75 [==============================] - 161s 2s/step - loss: 0.5228 - accuracy: 0.7996 - val_loss: 1.5923 - val_accuracy: 0.6687\n",
            "Epoch 3/50\n",
            "75/75 [==============================] - ETA: 0s - loss: 0.4634 - accuracy: 0.8131\n",
            "Epoch 3: val_loss improved from 1.59227 to 1.18308, saving model to best_ResNet50_model.h5\n",
            "75/75 [==============================] - 158s 2s/step - loss: 0.4634 - accuracy: 0.8131 - val_loss: 1.1831 - val_accuracy: 0.6712\n",
            "Epoch 4/50\n",
            "75/75 [==============================] - ETA: 0s - loss: 0.4270 - accuracy: 0.8313\n",
            "Epoch 4: val_loss improved from 1.18308 to 0.78635, saving model to best_ResNet50_model.h5\n",
            "75/75 [==============================] - 160s 2s/step - loss: 0.4270 - accuracy: 0.8313 - val_loss: 0.7864 - val_accuracy: 0.7150\n",
            "Epoch 5/50\n",
            "75/75 [==============================] - ETA: 0s - loss: 0.3783 - accuracy: 0.8477\n",
            "Epoch 5: val_loss improved from 0.78635 to 0.54208, saving model to best_ResNet50_model.h5\n",
            "75/75 [==============================] - 162s 2s/step - loss: 0.3783 - accuracy: 0.8477 - val_loss: 0.5421 - val_accuracy: 0.7912\n",
            "Epoch 6/50\n",
            "75/75 [==============================] - ETA: 0s - loss: 0.3667 - accuracy: 0.8517\n",
            "Epoch 6: val_loss did not improve from 0.54208\n",
            "75/75 [==============================] - 156s 2s/step - loss: 0.3667 - accuracy: 0.8517 - val_loss: 0.8767 - val_accuracy: 0.7312\n",
            "Epoch 7/50\n",
            "75/75 [==============================] - ETA: 0s - loss: 0.3642 - accuracy: 0.8542\n",
            "Epoch 7: val_loss did not improve from 0.54208\n",
            "75/75 [==============================] - 154s 2s/step - loss: 0.3642 - accuracy: 0.8542 - val_loss: 1.5654 - val_accuracy: 0.6662\n",
            "Epoch 8/50\n",
            "75/75 [==============================] - ETA: 0s - loss: 0.3597 - accuracy: 0.8585\n",
            "Epoch 8: val_loss did not improve from 0.54208\n",
            "75/75 [==============================] - 150s 2s/step - loss: 0.3597 - accuracy: 0.8585 - val_loss: 0.7003 - val_accuracy: 0.7775\n",
            "Epoch 9/50\n",
            "75/75 [==============================] - ETA: 0s - loss: 0.3269 - accuracy: 0.8683\n",
            "Epoch 9: val_loss did not improve from 0.54208\n",
            "75/75 [==============================] - 156s 2s/step - loss: 0.3269 - accuracy: 0.8683 - val_loss: 0.8243 - val_accuracy: 0.7669\n",
            "Epoch 10/50\n",
            "75/75 [==============================] - ETA: 0s - loss: 0.3396 - accuracy: 0.8669\n",
            "Epoch 10: val_loss did not improve from 0.54208\n",
            "75/75 [==============================] - 151s 2s/step - loss: 0.3396 - accuracy: 0.8669 - val_loss: 0.5729 - val_accuracy: 0.8100\n",
            "Epoch 11/50\n",
            "75/75 [==============================] - ETA: 0s - loss: 0.3141 - accuracy: 0.8727\n",
            "Epoch 11: val_loss improved from 0.54208 to 0.41307, saving model to best_ResNet50_model.h5\n",
            "75/75 [==============================] - 162s 2s/step - loss: 0.3141 - accuracy: 0.8727 - val_loss: 0.4131 - val_accuracy: 0.8519\n",
            "Epoch 12/50\n",
            "75/75 [==============================] - ETA: 0s - loss: 0.3273 - accuracy: 0.8681\n",
            "Epoch 12: val_loss did not improve from 0.41307\n",
            "75/75 [==============================] - 153s 2s/step - loss: 0.3273 - accuracy: 0.8681 - val_loss: 0.7991 - val_accuracy: 0.8087\n",
            "Epoch 13/50\n",
            "75/75 [==============================] - ETA: 0s - loss: 0.3124 - accuracy: 0.8723\n",
            "Epoch 13: val_loss did not improve from 0.41307\n",
            "75/75 [==============================] - 148s 2s/step - loss: 0.3124 - accuracy: 0.8723 - val_loss: 0.5966 - val_accuracy: 0.7912\n",
            "Epoch 14/50\n",
            "75/75 [==============================] - ETA: 0s - loss: 0.2935 - accuracy: 0.8838\n",
            "Epoch 14: val_loss did not improve from 0.41307\n",
            "75/75 [==============================] - 150s 2s/step - loss: 0.2935 - accuracy: 0.8838 - val_loss: 0.6128 - val_accuracy: 0.8112\n",
            "Epoch 15/50\n",
            "75/75 [==============================] - ETA: 0s - loss: 0.2948 - accuracy: 0.8831\n",
            "Epoch 15: val_loss did not improve from 0.41307\n",
            "75/75 [==============================] - 153s 2s/step - loss: 0.2948 - accuracy: 0.8831 - val_loss: 0.4840 - val_accuracy: 0.8106\n",
            "Epoch 16/50\n",
            "75/75 [==============================] - ETA: 0s - loss: 0.2976 - accuracy: 0.8754\n",
            "Epoch 16: val_loss improved from 0.41307 to 0.39495, saving model to best_ResNet50_model.h5\n",
            "75/75 [==============================] - 155s 2s/step - loss: 0.2976 - accuracy: 0.8754 - val_loss: 0.3950 - val_accuracy: 0.8525\n",
            "Epoch 17/50\n",
            "75/75 [==============================] - ETA: 0s - loss: 0.2870 - accuracy: 0.8838\n",
            "Epoch 17: val_loss did not improve from 0.39495\n",
            "75/75 [==============================] - 152s 2s/step - loss: 0.2870 - accuracy: 0.8838 - val_loss: 0.4156 - val_accuracy: 0.8431\n",
            "Epoch 18/50\n",
            "75/75 [==============================] - ETA: 0s - loss: 0.2692 - accuracy: 0.8906\n",
            "Epoch 18: val_loss improved from 0.39495 to 0.31223, saving model to best_ResNet50_model.h5\n",
            "75/75 [==============================] - 158s 2s/step - loss: 0.2692 - accuracy: 0.8906 - val_loss: 0.3122 - val_accuracy: 0.8769\n",
            "Epoch 19/50\n",
            "75/75 [==============================] - ETA: 0s - loss: 0.2603 - accuracy: 0.8971\n",
            "Epoch 19: val_loss did not improve from 0.31223\n",
            "75/75 [==============================] - 153s 2s/step - loss: 0.2603 - accuracy: 0.8971 - val_loss: 0.5775 - val_accuracy: 0.7775\n",
            "Epoch 20/50\n",
            "75/75 [==============================] - ETA: 0s - loss: 0.2755 - accuracy: 0.8900\n",
            "Epoch 20: val_loss did not improve from 0.31223\n",
            "75/75 [==============================] - 152s 2s/step - loss: 0.2755 - accuracy: 0.8900 - val_loss: 0.4390 - val_accuracy: 0.8244\n",
            "Epoch 21/50\n",
            "75/75 [==============================] - ETA: 0s - loss: 0.2562 - accuracy: 0.8923\n",
            "Epoch 21: val_loss did not improve from 0.31223\n",
            "75/75 [==============================] - 152s 2s/step - loss: 0.2562 - accuracy: 0.8923 - val_loss: 0.5922 - val_accuracy: 0.7681\n",
            "Epoch 22/50\n",
            "75/75 [==============================] - ETA: 0s - loss: 0.2472 - accuracy: 0.8956\n",
            "Epoch 22: val_loss improved from 0.31223 to 0.29043, saving model to best_ResNet50_model.h5\n",
            "75/75 [==============================] - 159s 2s/step - loss: 0.2472 - accuracy: 0.8956 - val_loss: 0.2904 - val_accuracy: 0.8806\n",
            "Epoch 23/50\n",
            "75/75 [==============================] - ETA: 0s - loss: 0.2542 - accuracy: 0.8965\n",
            "Epoch 23: val_loss improved from 0.29043 to 0.25882, saving model to best_ResNet50_model.h5\n",
            "75/75 [==============================] - 158s 2s/step - loss: 0.2542 - accuracy: 0.8965 - val_loss: 0.2588 - val_accuracy: 0.9056\n",
            "Epoch 24/50\n",
            "75/75 [==============================] - ETA: 0s - loss: 0.2454 - accuracy: 0.8990\n",
            "Epoch 24: val_loss did not improve from 0.25882\n",
            "75/75 [==============================] - 150s 2s/step - loss: 0.2454 - accuracy: 0.8990 - val_loss: 0.7119 - val_accuracy: 0.7819\n",
            "Epoch 25/50\n",
            "75/75 [==============================] - ETA: 0s - loss: 0.2404 - accuracy: 0.9054\n",
            "Epoch 25: val_loss did not improve from 0.25882\n",
            "75/75 [==============================] - 152s 2s/step - loss: 0.2404 - accuracy: 0.9054 - val_loss: 0.3450 - val_accuracy: 0.8600\n",
            "Epoch 26/50\n",
            "75/75 [==============================] - ETA: 0s - loss: 0.2377 - accuracy: 0.8992\n",
            "Epoch 26: val_loss did not improve from 0.25882\n",
            "75/75 [==============================] - 154s 2s/step - loss: 0.2377 - accuracy: 0.8992 - val_loss: 0.4797 - val_accuracy: 0.8206\n",
            "Epoch 27/50\n",
            "75/75 [==============================] - ETA: 0s - loss: 0.2428 - accuracy: 0.9008\n",
            "Epoch 27: val_loss did not improve from 0.25882\n",
            "75/75 [==============================] - 147s 2s/step - loss: 0.2428 - accuracy: 0.9008 - val_loss: 0.8749 - val_accuracy: 0.7225\n",
            "Epoch 28/50\n",
            "75/75 [==============================] - ETA: 0s - loss: 0.2363 - accuracy: 0.9085\n",
            "Epoch 28: val_loss did not improve from 0.25882\n",
            "75/75 [==============================] - 149s 2s/step - loss: 0.2363 - accuracy: 0.9085 - val_loss: 0.3065 - val_accuracy: 0.8863\n",
            "Epoch 29/50\n",
            "75/75 [==============================] - ETA: 0s - loss: 0.2481 - accuracy: 0.9023\n",
            "Epoch 29: val_loss did not improve from 0.25882\n",
            "75/75 [==============================] - 166s 2s/step - loss: 0.2481 - accuracy: 0.9023 - val_loss: 0.4389 - val_accuracy: 0.8494\n",
            "Epoch 30/50\n",
            "75/75 [==============================] - ETA: 0s - loss: 0.2335 - accuracy: 0.9077\n",
            "Epoch 30: val_loss did not improve from 0.25882\n",
            "75/75 [==============================] - 151s 2s/step - loss: 0.2335 - accuracy: 0.9077 - val_loss: 0.9837 - val_accuracy: 0.7319\n",
            "Epoch 31/50\n",
            "75/75 [==============================] - ETA: 0s - loss: 0.2270 - accuracy: 0.9085\n",
            "Epoch 31: val_loss did not improve from 0.25882\n",
            "75/75 [==============================] - 152s 2s/step - loss: 0.2270 - accuracy: 0.9085 - val_loss: 0.3692 - val_accuracy: 0.8656\n",
            "Epoch 32/50\n",
            "75/75 [==============================] - ETA: 0s - loss: 0.2313 - accuracy: 0.9038\n",
            "Epoch 32: val_loss did not improve from 0.25882\n",
            "75/75 [==============================] - 151s 2s/step - loss: 0.2313 - accuracy: 0.9038 - val_loss: 0.3103 - val_accuracy: 0.8769\n",
            "Epoch 33/50\n",
            "75/75 [==============================] - ETA: 0s - loss: 0.2292 - accuracy: 0.9056\n",
            "Epoch 33: val_loss did not improve from 0.25882\n",
            "75/75 [==============================] - 152s 2s/step - loss: 0.2292 - accuracy: 0.9056 - val_loss: 0.4375 - val_accuracy: 0.8469\n",
            "Epoch 34/50\n",
            "75/75 [==============================] - ETA: 0s - loss: 0.2195 - accuracy: 0.9119\n",
            "Epoch 34: val_loss did not improve from 0.25882\n",
            "75/75 [==============================] - 148s 2s/step - loss: 0.2195 - accuracy: 0.9119 - val_loss: 0.3583 - val_accuracy: 0.8619\n",
            "Epoch 35/50\n",
            "75/75 [==============================] - ETA: 0s - loss: 0.2180 - accuracy: 0.9119\n",
            "Epoch 35: val_loss did not improve from 0.25882\n",
            "75/75 [==============================] - 150s 2s/step - loss: 0.2180 - accuracy: 0.9119 - val_loss: 0.5682 - val_accuracy: 0.8350\n",
            "Epoch 36/50\n",
            "75/75 [==============================] - ETA: 0s - loss: 0.2293 - accuracy: 0.9117\n",
            "Epoch 36: val_loss improved from 0.25882 to 0.25879, saving model to best_ResNet50_model.h5\n",
            "75/75 [==============================] - 154s 2s/step - loss: 0.2293 - accuracy: 0.9117 - val_loss: 0.2588 - val_accuracy: 0.8963\n",
            "Epoch 37/50\n",
            "75/75 [==============================] - ETA: 0s - loss: 0.2109 - accuracy: 0.9129\n",
            "Epoch 37: val_loss did not improve from 0.25879\n",
            "75/75 [==============================] - 151s 2s/step - loss: 0.2109 - accuracy: 0.9129 - val_loss: 0.3652 - val_accuracy: 0.8537\n",
            "Epoch 38/50\n",
            "75/75 [==============================] - ETA: 0s - loss: 0.2058 - accuracy: 0.9212\n",
            "Epoch 38: val_loss did not improve from 0.25879\n",
            "75/75 [==============================] - 150s 2s/step - loss: 0.2058 - accuracy: 0.9212 - val_loss: 0.2959 - val_accuracy: 0.8831\n",
            "Epoch 39/50\n",
            "75/75 [==============================] - ETA: 0s - loss: 0.1968 - accuracy: 0.9156\n",
            "Epoch 39: val_loss did not improve from 0.25879\n",
            "75/75 [==============================] - 150s 2s/step - loss: 0.1968 - accuracy: 0.9156 - val_loss: 0.3077 - val_accuracy: 0.8994\n",
            "Epoch 40/50\n",
            "75/75 [==============================] - ETA: 0s - loss: 0.2017 - accuracy: 0.9183\n",
            "Epoch 40: val_loss did not improve from 0.25879\n",
            "75/75 [==============================] - 149s 2s/step - loss: 0.2017 - accuracy: 0.9183 - val_loss: 0.3265 - val_accuracy: 0.8719\n",
            "Epoch 41/50\n",
            "75/75 [==============================] - ETA: 0s - loss: 0.1922 - accuracy: 0.9204\n",
            "Epoch 41: val_loss did not improve from 0.25879\n",
            "75/75 [==============================] - 148s 2s/step - loss: 0.1922 - accuracy: 0.9204 - val_loss: 0.3995 - val_accuracy: 0.8525\n",
            "Epoch 42/50\n",
            "75/75 [==============================] - ETA: 0s - loss: 0.1956 - accuracy: 0.9254\n",
            "Epoch 42: val_loss did not improve from 0.25879\n",
            "75/75 [==============================] - 145s 2s/step - loss: 0.1956 - accuracy: 0.9254 - val_loss: 1.4052 - val_accuracy: 0.6606\n",
            "Epoch 43/50\n",
            "75/75 [==============================] - ETA: 0s - loss: 0.2123 - accuracy: 0.9121\n",
            "Epoch 43: val_loss did not improve from 0.25879\n",
            "75/75 [==============================] - 165s 2s/step - loss: 0.2123 - accuracy: 0.9121 - val_loss: 0.3523 - val_accuracy: 0.8763\n",
            "Epoch 44/50\n",
            "75/75 [==============================] - ETA: 0s - loss: 0.2001 - accuracy: 0.9204\n",
            "Epoch 44: val_loss did not improve from 0.25879\n",
            "75/75 [==============================] - 148s 2s/step - loss: 0.2001 - accuracy: 0.9204 - val_loss: 0.2665 - val_accuracy: 0.9013\n",
            "Epoch 45/50\n",
            "75/75 [==============================] - ETA: 0s - loss: 0.2050 - accuracy: 0.9196\n",
            "Epoch 45: val_loss did not improve from 0.25879\n",
            "75/75 [==============================] - 147s 2s/step - loss: 0.2050 - accuracy: 0.9196 - val_loss: 0.3290 - val_accuracy: 0.8744\n",
            "Epoch 46/50\n",
            "75/75 [==============================] - ETA: 0s - loss: 0.1905 - accuracy: 0.9252\n",
            "Epoch 46: val_loss improved from 0.25879 to 0.23658, saving model to best_ResNet50_model.h5\n",
            "75/75 [==============================] - 156s 2s/step - loss: 0.1905 - accuracy: 0.9252 - val_loss: 0.2366 - val_accuracy: 0.9019\n",
            "Epoch 47/50\n",
            "75/75 [==============================] - ETA: 0s - loss: 0.1883 - accuracy: 0.9225\n",
            "Epoch 47: val_loss did not improve from 0.23658\n",
            "75/75 [==============================] - 151s 2s/step - loss: 0.1883 - accuracy: 0.9225 - val_loss: 0.7911 - val_accuracy: 0.7663\n",
            "Epoch 48/50\n",
            "75/75 [==============================] - ETA: 0s - loss: 0.1746 - accuracy: 0.9298\n",
            "Epoch 48: val_loss did not improve from 0.23658\n",
            "75/75 [==============================] - 149s 2s/step - loss: 0.1746 - accuracy: 0.9298 - val_loss: 0.2936 - val_accuracy: 0.8988\n",
            "Epoch 49/50\n",
            "75/75 [==============================] - ETA: 0s - loss: 0.1824 - accuracy: 0.9244\n",
            "Epoch 49: val_loss did not improve from 0.23658\n",
            "75/75 [==============================] - 147s 2s/step - loss: 0.1824 - accuracy: 0.9244 - val_loss: 0.3026 - val_accuracy: 0.8913\n",
            "Epoch 50/50\n",
            "75/75 [==============================] - ETA: 0s - loss: 0.2005 - accuracy: 0.9204\n",
            "Epoch 50: val_loss did not improve from 0.23658\n",
            "75/75 [==============================] - 148s 2s/step - loss: 0.2005 - accuracy: 0.9204 - val_loss: 0.3662 - val_accuracy: 0.8719\n"
          ]
        },
        {
          "output_type": "display_data",
          "data": {
            "text/plain": [
              "<Figure size 640x480 with 1 Axes>"
            ],
            "image/png": "[encoded data removed]"
          },
          "metadata": {}
        }
      ]
    },
    {
      "cell_type": "code",
      "source": [
        "model.load_weights('/content/best_ResNet50_model.h5')\n",
        "\n",
        "test_loss, test_accuracy = model.evaluate(test_ds)\n",
        "print('Test loss:', test_loss)\n",
        "print('Test accuracy:', test_accuracy)"
      ],
      "metadata": {
        "colab": {
          "base_uri": "https://localhost:8080/"
        },
        "id": "99wrKGjprBAD",
        "outputId": "3b22ad1b-21b1-4c78-fa9f-1f661a2794a0"
      },
      "execution_count": 9,
      "outputs": [
        {
          "output_type": "stream",
          "name": "stdout",
          "text": [
            "25/25 [==============================] - 16s 481ms/step - loss: 0.2849 - accuracy: 0.8944\n",
            "Test loss: 0.28488653898239136\n",
            "Test accuracy: 0.8943750262260437\n"
          ]
        }
      ]
    },
    {
      "cell_type": "markdown",
      "source": [
        "**CONFUSION MATRIX**"
      ],
      "metadata": {
        "id": "X266Vl3vVcOv"
      }
    },
    {
      "cell_type": "code",
      "source": [
        "import numpy as np\n",
        "import seaborn as sns\n",
        "from sklearn.metrics import confusion_matrix\n",
        "\n",
        "y_true = []\n",
        "y_pred = []\n",
        "\n",
        "# Iterate over the test dataset to get true labels and predictions\n",
        "for x, y in test_ds:\n",
        "    y_true.extend(y.numpy().argmax(axis=1))  # Assuming y is one-hot encoded\n",
        "    y_pred.extend(model.predict(x).argmax(axis=1))\n",
        "\n",
        "cm = confusion_matrix(y_true, y_pred)\n",
        "\n",
        "print(cm)\n",
        "\n",
        "plt.figure(figsize=(10, 6))\n",
        "sns.heatmap(cm, annot=True, fmt='d', cmap='Blues')\n",
        "plt.xlabel('Predicted Labels')\n",
        "plt.ylabel('True Labels')\n",
        "plt.title('Confusion Matrix')\n",
        "plt.show()\n"
      ],
      "metadata": {
        "id": "defnXPr7ifJf",
        "colab": {
          "base_uri": "https://localhost:8080/",
          "height": 1000
        },
        "outputId": "963524cc-3913-49af-9ce3-2a6856327b6d"
      },
      "execution_count": 15,
      "outputs": [
        {
          "output_type": "stream",
          "name": "stdout",
          "text": [
            "2/2 [==============================] - 5s 19ms/step\n",
            "2/2 [==============================] - 0s 79ms/step\n",
            "2/2 [==============================] - 0s 92ms/step\n",
            "2/2 [==============================] - 0s 84ms/step\n",
            "2/2 [==============================] - 0s 87ms/step\n",
            "2/2 [==============================] - 0s 88ms/step\n",
            "2/2 [==============================] - 0s 82ms/step\n",
            "2/2 [==============================] - 0s 112ms/step\n",
            "2/2 [==============================] - 0s 83ms/step\n",
            "2/2 [==============================] - 0s 102ms/step\n",
            "2/2 [==============================] - 0s 98ms/step\n",
            "2/2 [==============================] - 0s 92ms/step\n",
            "2/2 [==============================] - 0s 82ms/step\n",
            "2/2 [==============================] - 0s 89ms/step\n",
            "2/2 [==============================] - 0s 76ms/step\n",
            "2/2 [==============================] - 0s 85ms/step\n",
            "2/2 [==============================] - 0s 83ms/step\n",
            "2/2 [==============================] - 0s 90ms/step\n",
            "2/2 [==============================] - 0s 90ms/step\n",
            "2/2 [==============================] - 0s 87ms/step\n",
            "2/2 [==============================] - 0s 93ms/step\n",
            "2/2 [==============================] - 0s 104ms/step\n",
            "2/2 [==============================] - 0s 87ms/step\n",
            "2/2 [==============================] - 0s 98ms/step\n",
            "2/2 [==============================] - 0s 88ms/step\n",
            "[[155  34   0   1   0   0   0   0]\n",
            " [  6 201   0   0   0   0   0   0]\n",
            " [  0   0 141   0   0  81   0   0]\n",
            " [  0   0   0 200   0   0   1   0]\n",
            " [  0   0   0   0 177   1   2   0]\n",
            " [  0   0  17   0   2 175   0   0]\n",
            " [  1   1   0  11   2   0 193   3]\n",
            " [  1   0   0  13   0   0   8 173]]\n"
          ]
        },
        {
          "output_type": "display_data",
          "data": {
            "text/plain": [
              "<Figure size 1000x600 with 2 Axes>"
            ],
            "image/png": "[encoded data removed]"
          },
          "metadata": {}
        }
      ]
    },
    {
      "cell_type": "code",
      "source": [
        "from sklearn.metrics import f1_score, recall_score\n",
        "# Calculate F1 score\n",
        "f1 = f1_score(y_true, y_pred, average='weighted')\n",
        "\n",
        "# Calculate recall\n",
        "recall = recall_score(y_true, y_pred, average='weighted')\n",
        "\n",
        "print(\"F1 score:\", f1)\n",
        "print(\"Recall:\", recall)"
      ],
      "metadata": {
        "colab": {
          "base_uri": "https://localhost:8080/"
        },
        "id": "TRppDtS9hxk4",
        "outputId": "d53ad342-ce03-4f0b-e67c-37afaeca3237"
      },
      "execution_count": 16,
      "outputs": [
        {
          "output_type": "stream",
          "name": "stdout",
          "text": [
            "F1 score: 0.8833478451875911\n",
            "Recall: 0.884375\n"
          ]
        }
      ]
    }
  ]
}